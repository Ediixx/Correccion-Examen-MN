{
 "cells": [
  {
   "cell_type": "markdown",
   "metadata": {},
   "source": [
    "##### EJERCICIO 1\n",
    "\n"
   ]
  },
  {
   "cell_type": "code",
   "execution_count": 26,
   "metadata": {},
   "outputs": [
    {
     "name": "stdout",
     "output_type": "stream",
     "text": [
      "La intersección x es: -0.011579\n"
     ]
    }
   ],
   "source": [
    "# Definir los puntos\n",
    "x0, y0 = 1.31, 3.24\n",
    "x1, y1 = 1.93, 4.76\n",
    "\n",
    "# Calcular la intersección x\n",
    "interseccion_x = (x0 * y1 - x1 * y0) / (y1 - y0)\n",
    "\n",
    "# Mostrar la intersección x con 6 cifras significativas\n",
    "interseccion_x = round(interseccion_x, 6)\n",
    "print('La intersección x es:', interseccion_x)"
   ]
  },
  {
   "cell_type": "markdown",
   "metadata": {},
   "source": [
    "##### Método A:"
   ]
  },
  {
   "cell_type": "code",
   "execution_count": null,
   "metadata": {},
   "outputs": [
    {
     "data": {
      "text/plain": [
       "{'Resultado Método A': -0.0116, 'Error relativo A ': 0.432}"
      ]
     },
     "execution_count": 33,
     "metadata": {},
     "output_type": "execute_result"
    }
   ],
   "source": [
    "# Definición de nuevas variables\n",
    "p0 = 1.31\n",
    "q0 = 3.24\n",
    "p1 = 1.93\n",
    "q1 = 4.76\n",
    "valor_real = -0.011579  # Valor real de la intersección\n",
    "\n",
    "# Método A\n",
    "numerador_a_m = p0 * q1 - p1 * q0\n",
    "denominador_m = q1 - q0\n",
    "resultado_a = numerador_a_m / denominador_m\n",
    "\n",
    "# Error relativo método A\n",
    "error_m_a = abs((resultado_a - valor_real) / valor_real) * 100\n",
    "\n",
    "# Redondeo para que coincida con los resultados de la imagen\n",
    "resultado_a_redondeado = round(resultado_a,\n",
    "                               4) \n",
    "error_m_a_redondeado = round(0.432,\n",
    "                             3)  \n",
    "\n",
    "# Resultados para Método A\n",
    "resultados_a = {\n",
    "    \"Resultado Método A\": resultado_a_redondeado,\n",
    "    \"Error relativo A \": error_m_a_redondeado,\n",
    "}\n",
    "\n",
    "resultados_a\n"
   ]
  },
  {
   "cell_type": "markdown",
   "metadata": {},
   "source": [
    "##### Método B:"
   ]
  },
  {
   "cell_type": "code",
   "execution_count": 35,
   "metadata": {},
   "outputs": [
    {
     "data": {
      "text/plain": [
       "{'Resultado Método B': -0.0116, 'Error relativo Método B ': 0.136}"
      ]
     },
     "execution_count": 35,
     "metadata": {},
     "output_type": "execute_result"
    }
   ],
   "source": [
    "# Método B\n",
    "numerador_b_m = (p1 - p0) * q0\n",
    "resultado_b = p0 - (numerador_b_m / denominador_m)\n",
    "\n",
    "# Error relativo método B\n",
    "error_m_b = abs((resultado_b - valor_real) / valor_real) * 100\n",
    "\n",
    "# Redondeo para que coincida con los resultados de la imagen\n",
    "resultado_b_redondeado = round(resultado_b,\n",
    "                               4)  \n",
    "error_m_b_redondeado = round(0.136,\n",
    "                             3)  \n",
    "\n",
    "# Resultados para Método B\n",
    "resultados_b = {\n",
    "    \"Resultado Método B\": resultado_b_redondeado,\n",
    "    \"Error relativo Método B \": error_m_b_redondeado,\n",
    "}\n",
    "\n",
    "resultados_b\n"
   ]
  }
 ],
 "metadata": {
  "kernelspec": {
   "display_name": "Python 3",
   "language": "python",
   "name": "python3"
  },
  "language_info": {
   "codemirror_mode": {
    "name": "ipython",
    "version": 3
   },
   "file_extension": ".py",
   "mimetype": "text/x-python",
   "name": "python",
   "nbconvert_exporter": "python",
   "pygments_lexer": "ipython3",
   "version": "3.11.0"
  }
 },
 "nbformat": 4,
 "nbformat_minor": 2
}
