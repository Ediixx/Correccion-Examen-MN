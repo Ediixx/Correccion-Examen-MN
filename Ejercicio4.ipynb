{
 "cells": [
  {
   "cell_type": "markdown",
   "metadata": {},
   "source": [
    "##### EJERCICIO 4"
   ]
  },
  {
   "cell_type": "code",
   "execution_count": null,
   "metadata": {},
   "outputs": [
    {
     "name": "stdout",
     "output_type": "stream",
     "text": [
      "Evaluando para valor_inicial = 3.00\n",
      "Resultado: 2.76929\n",
      "Evaluando para valor_inicial = 1.00\n",
      "Resultado: Error: Oscilación o Divergencia.\n",
      "Evaluando para valor_inicial = 0.00\n",
      "Resultado: Error: Oscilación o Divergencia.\n",
      "Evaluando para valor_inicial = 1.82\n",
      "Resultado: Error: División por cero.\n"
     ]
    }
   ],
   "source": [
    "import math\n",
    "\n",
    "\n",
    "# Definir la función\n",
    "def funcion(x):\n",
    "    return x**3 + x - 1 - 3 * x**2\n",
    "\n",
    "\n",
    "# Definir su derivada\n",
    "def derivada_funcion(x):\n",
    "    return 3 * x**2 + 1 - 6 * x\n",
    "\n",
    "\n",
    "# Método de Newton\n",
    "def metodo_newton(valor_inicial, tol=1e-7, max_iter=1000):\n",
    "    x = valor_inicial\n",
    "    for i in range(max_iter):\n",
    "        fx = funcion(x)\n",
    "        dfx = derivada_funcion(x)\n",
    "\n",
    "        # Verificar si la derivada es cero (para evitar la división por cero)\n",
    "        if abs(dfx) < 1e-14:\n",
    "            return \"Error: División por cero.\"\n",
    "\n",
    "        x_nuevo = x - fx / dfx\n",
    "\n",
    "        # Verificar si el valor oscila o no converge\n",
    "        if abs(x_nuevo - x) < tol:\n",
    "            return round(x_nuevo, 5)\n",
    "\n",
    "        # Caso de divergencia u oscilación\n",
    "        if i > 0 and abs(x_nuevo - x) > abs(x - x_nuevo):\n",
    "            return \"Error: Oscilación o Divergencia.\"\n",
    "\n",
    "        x = x_nuevo\n",
    "\n",
    "\n",
    "# Probar diferentes valores de valor_inicial\n",
    "valores_iniciales = [3, 1, 0, 1 + math.sqrt(6) / 3]\n",
    "for valor_inicial in valores_iniciales:\n",
    "    resultado = metodo_newton(valor_inicial)\n",
    "    print(f\"Evaluando para valor_inicial = {valor_inicial:.2f}\")\n",
    "    print(\n",
    "        f\"Resultado: {resultado if resultado != None else 'Error: Oscilación o Divergencia.'}\"\n",
    "    )\n"
   ]
  }
 ],
 "metadata": {
  "kernelspec": {
   "display_name": "Python 3",
   "language": "python",
   "name": "python3"
  },
  "language_info": {
   "codemirror_mode": {
    "name": "ipython",
    "version": 3
   },
   "file_extension": ".py",
   "mimetype": "text/x-python",
   "name": "python",
   "nbconvert_exporter": "python",
   "pygments_lexer": "ipython3",
   "version": "3.11.0"
  }
 },
 "nbformat": 4,
 "nbformat_minor": 2
}
