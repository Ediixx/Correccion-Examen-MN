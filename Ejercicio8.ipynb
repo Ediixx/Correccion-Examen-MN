{
 "cells": [
  {
   "cell_type": "markdown",
   "metadata": {},
   "source": [
    "##### EJERCICIO 8"
   ]
  },
  {
   "cell_type": "code",
   "execution_count": 7,
   "metadata": {},
   "outputs": [
    {
     "name": "stdout",
     "output_type": "stream",
     "text": [
      "El polinomio resultante simplificado tiene orden = 1\n",
      "Polinomio de Lagrange simplificado P(x): x\n",
      "P(x = 3.78) = 3.78\n",
      "P(x = 19.102) = 19.102\n"
     ]
    }
   ],
   "source": [
    "import numpy as np\n",
    "import sympy as sp\n",
    "\n",
    "# Definimos los puntos proporcionados\n",
    "x_puntos = np.array([0, 1, 2, 3])\n",
    "y_puntos = np.array([0, 1, 2, 3])\n",
    "\n",
    "# Variable simbólica\n",
    "x_variable = sp.symbols('x')\n",
    "\n",
    "\n",
    "# Función para calcular el polinomio de Lagrange\n",
    "def polinomio_lagrange(x_val, x_puntos, y_puntos):\n",
    "    n = len(x_puntos)\n",
    "    polinomio_resultante = 0\n",
    "    for k in range(n):\n",
    "        # Cálculo de Lk(x)\n",
    "        Lk = 1\n",
    "        for i in range(n):\n",
    "            if i != k:\n",
    "                Lk *= (x_variable - x_puntos[i]) / (x_puntos[k] - x_puntos[i])\n",
    "        # Sumar al polinomio resultante\n",
    "        polinomio_resultante += y_puntos[k] * Lk\n",
    "    return sp.simplify(polinomio_resultante)\n",
    "\n",
    "\n",
    "# Obtener el polinomio de Lagrange\n",
    "polinomio_x = polinomio_lagrange(x_variable, x_puntos, y_puntos)\n",
    "\n",
    "# Imprimir su orden y el polinomio simplificado\n",
    "orden_polinomio = polinomio_x.as_poly().degree()\n",
    "print(f\"El polinomio resultante simplificado tiene orden = {orden_polinomio}\")\n",
    "print(f\"Polinomio de Lagrange simplificado P(x): {polinomio_x}\")\n",
    "\n",
    "# Evaluar en los puntos solicitados\n",
    "evaluacion_3_78 = polinomio_x.subs(x_variable, 3.78)\n",
    "evaluacion_19_102 = polinomio_x.subs(x_variable, 19.102)\n",
    "\n",
    "# Mostrar resultados de evaluación\n",
    "print(f\"P(x = 3.78) = {evaluacion_3_78:.2f}\")\n",
    "print(f\"P(x = 19.102) = {evaluacion_19_102:.3f}\")\n"
   ]
  }
 ],
 "metadata": {
  "kernelspec": {
   "display_name": "Python 3",
   "language": "python",
   "name": "python3"
  },
  "language_info": {
   "codemirror_mode": {
    "name": "ipython",
    "version": 3
   },
   "file_extension": ".py",
   "mimetype": "text/x-python",
   "name": "python",
   "nbconvert_exporter": "python",
   "pygments_lexer": "ipython3",
   "version": "3.11.0"
  }
 },
 "nbformat": 4,
 "nbformat_minor": 2
}
