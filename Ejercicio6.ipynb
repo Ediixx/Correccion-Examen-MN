{
 "cells": [
  {
   "cell_type": "markdown",
   "metadata": {},
   "source": [
    "##### EJERCICIO 6"
   ]
  },
  {
   "cell_type": "code",
   "execution_count": 2,
   "metadata": {},
   "outputs": [
    {
     "name": "stdout",
     "output_type": "stream",
     "text": [
      "La función es S1(x) = 0.25(x - -1.0)^3 + -0.50(x - -1.0)^2 + 1.00(x - -1.0) + 1.00\n"
     ]
    }
   ],
   "source": [
    "import numpy as np\n",
    "from scipy.interpolate import CubicSpline\n",
    "\n",
    "# Datos iniciales\n",
    "puntos_x = np.array([-1, 1, -1, 1])\n",
    "puntos_y = np.array([1, 3, 1, 3])\n",
    "\n",
    "# Eliminar puntos duplicados (importante para scipy)\n",
    "puntos_unicos = np.unique(puntos_x, return_index=True)\n",
    "puntos_x = puntos_x[puntos_unicos[1]]\n",
    "puntos_y = puntos_y[puntos_unicos[1]]\n",
    "\n",
    "# Condiciones de frontera para derivadas en los extremos\n",
    "tipo_condiciones = (\n",
    "    (1, 1), (1, 2))  # (tipo, valor) para el primer y último punto\n",
    "\n",
    "# Crear el spline cúbico\n",
    "curva_cubica = CubicSpline(puntos_x, puntos_y, bc_type=tipo_condiciones)\n",
    "\n",
    "# Obtener los coeficientes del primer intervalo\n",
    "coeficientes_primera = curva_cubica.c[:, 0]\n",
    "\n",
    "# Imprimir la ecuación del spline en el primer intervalo\n",
    "print('La función es ' +\n",
    "      f\"S1(x) = {coeficientes_primera[0]:.2f}(x - {puntos_x[0]:.1f})^3 + \"\n",
    "      f\"{coeficientes_primera[1]:.2f}(x - {puntos_x[0]:.1f})^2 + \"\n",
    "      f\"{coeficientes_primera[2]:.2f}(x - {puntos_x[0]:.1f}) + \"\n",
    "      f\"{coeficientes_primera[3]:.2f}\")\n",
    "\n"
   ]
  }
 ],
 "metadata": {
  "kernelspec": {
   "display_name": "Python 3",
   "language": "python",
   "name": "python3"
  },
  "language_info": {
   "codemirror_mode": {
    "name": "ipython",
    "version": 3
   },
   "file_extension": ".py",
   "mimetype": "text/x-python",
   "name": "python",
   "nbconvert_exporter": "python",
   "pygments_lexer": "ipython3",
   "version": "3.11.0"
  }
 },
 "nbformat": 4,
 "nbformat_minor": 2
}
