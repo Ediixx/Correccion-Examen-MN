{
 "cells": [
  {
   "cell_type": "markdown",
   "metadata": {},
   "source": [
    "##### EJERCICIO 3"
   ]
  },
  {
   "cell_type": "markdown",
   "metadata": {},
   "source": [
    "##### LITERALES 1,2,4,5:"
   ]
  },
  {
   "cell_type": "code",
   "execution_count": 14,
   "metadata": {},
   "outputs": [
    {
     "name": "stdout",
     "output_type": "stream",
     "text": [
      "La raíz encontrada es: 3.14159\n"
     ]
    }
   ],
   "source": [
    "import math\n",
    "\n",
    "\n",
    "# Definir la función a evaluar\n",
    "def funcion(x):\n",
    "    return x - math.pi\n",
    "\n",
    "\n",
    "# Método de la bisección\n",
    "def bisection_method(f, a, b, tol=1e-5, max_iter=100):\n",
    "    if f(a) * f(b) >= 0:\n",
    "        raise ValueError(\n",
    "            \"La función no cambia de signo en el intervalo proporcionado.\")\n",
    "\n",
    "    for _ in range(max_iter):\n",
    "        c = (a + b) / 2\n",
    "        if abs(f(c)) < tol or (b - a) / 2 < tol:\n",
    "            return c\n",
    "        if f(c) * f(a) < 0:\n",
    "            b = c\n",
    "        else:\n",
    "            a = c\n",
    "\n",
    "    return (a + b)\n",
    "\n",
    "\n",
    "a = -5\n",
    "b = 4\n",
    "\n",
    "# Llamada al método de bisección\n",
    "raiz = bisection_method(funcion, a, b)\n",
    "print(f\"La raíz encontrada es: {raiz:.5f}\")\n"
   ]
  },
  {
   "cell_type": "markdown",
   "metadata": {},
   "source": [
    "##### LITERAL 3:"
   ]
  },
  {
   "cell_type": "code",
   "execution_count": 16,
   "metadata": {},
   "outputs": [
    {
     "name": "stdout",
     "output_type": "stream",
     "text": [
      "La raíz encontrada es: 0.0000\n"
     ]
    }
   ],
   "source": [
    "import math\n",
    "\n",
    "# Definir la nueva función a evaluar (para obtener la raíz 0)\n",
    "def funcion(x):\n",
    "    return x  # La raíz de f(x) = x es 0.\n",
    "\n",
    "# Método de la bisección\n",
    "def bisection_method(f, a, b, tol=1e-5, max_iter=100):\n",
    "    if f(a) * f(b) >= 0:\n",
    "        raise ValueError(\n",
    "            \"La función no cambia de signo en el intervalo proporcionado.\")\n",
    "\n",
    "    for _ in range(max_iter):\n",
    "        c = (a + b) / 2\n",
    "        if abs(f(c)) < tol or (b - a) / 2 < tol:\n",
    "            return c\n",
    "        if f(c) * f(a) < 0:\n",
    "            b = c\n",
    "        else:\n",
    "            a = c\n",
    "\n",
    "    return (a + b) / 2\n",
    "\n",
    "a = -1\n",
    "b = 2\n",
    "\n",
    "# Llamada al método de bisección\n",
    "raiz = bisection_method(funcion, a, b)\n",
    "print(f\"La raíz encontrada es: {raiz:.4f}\")\n"
   ]
  },
  {
   "cell_type": "markdown",
   "metadata": {},
   "source": [
    "##### LITERAL 6:"
   ]
  },
  {
   "cell_type": "code",
   "execution_count": 17,
   "metadata": {},
   "outputs": [
    {
     "name": "stdout",
     "output_type": "stream",
     "text": [
      "La raíz encontrada es: -3.14159\n"
     ]
    }
   ],
   "source": [
    "import math\n",
    "\n",
    "# Definir la función a evaluar (para encontrar -pi)\n",
    "def funcion(x):\n",
    "    return x + math.pi  # La raíz de f(x) = x + pi es -pi\n",
    "\n",
    "# Método de la bisección\n",
    "def bisection_method(f, a, b, tol=1e-5, max_iter=100):\n",
    "    if f(a) * f(b) >= 0:\n",
    "        raise ValueError(\n",
    "            \"La función no cambia de signo en el intervalo proporcionado.\")\n",
    "\n",
    "    for _ in range(max_iter):\n",
    "        c = (a + b) / 2\n",
    "        if abs(f(c)) < tol or (b - a) / 2 < tol:\n",
    "            return c\n",
    "        if f(c) * f(a) < 0:\n",
    "            b = c\n",
    "        else:\n",
    "            a = c\n",
    "\n",
    "    return (a + b) / 2\n",
    "\n",
    "a = -5\n",
    "b = 4\n",
    "\n",
    "# Llamada al método de bisección\n",
    "raiz = bisection_method(funcion, a, b)\n",
    "print(f\"La raíz encontrada es: {raiz:.5f}\")\n"
   ]
  }
 ],
 "metadata": {
  "kernelspec": {
   "display_name": "Python 3",
   "language": "python",
   "name": "python3"
  },
  "language_info": {
   "codemirror_mode": {
    "name": "ipython",
    "version": 3
   },
   "file_extension": ".py",
   "mimetype": "text/x-python",
   "name": "python",
   "nbconvert_exporter": "python",
   "pygments_lexer": "ipython3",
   "version": "3.11.0"
  }
 },
 "nbformat": 4,
 "nbformat_minor": 2
}
