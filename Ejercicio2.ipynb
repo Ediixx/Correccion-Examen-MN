{
 "cells": [
  {
   "cell_type": "markdown",
   "metadata": {},
   "source": [
    "##### EJERCICIO 2"
   ]
  },
  {
   "cell_type": "code",
   "execution_count": 10,
   "metadata": {},
   "outputs": [
    {
     "name": "stdout",
     "output_type": "stream",
     "text": [
      "El error relativo para 4*arctan(1/2) + 4*arctan(1/3) es: 0.0013\n"
     ]
    }
   ],
   "source": [
    "import numpy as np\n",
    "\n",
    "\n",
    "# Definir la serie de Maclaurin para arctan(x)\n",
    "def arctan_maclaurin(x, terms=3):\n",
    "    result = 0\n",
    "    for n in range(terms):\n",
    "        term = ((-1)**n) * (x**(2 * n + 1)) / (2 * n + 1)\n",
    "        result += term\n",
    "    return result\n",
    "\n",
    "\n",
    "# Calcular las aproximaciones de arctan(1/2) y arctan(1/3)\n",
    "arctan_1_2 = arctan_maclaurin(1 / 2)\n",
    "arctan_1_3 = arctan_maclaurin(1 / 3)\n",
    "\n",
    "# Calcular la aproximación de π\n",
    "aproximacion_pi = 4 * (arctan_1_2 + arctan_1_3)\n",
    "\n",
    "# Valor real de π\n",
    "pi_real = 3.14159\n",
    "\n",
    "# Calcular el error relativo\n",
    "re_1 = abs((pi_real - aproximacion_pi) / pi_real)\n",
    "\n",
    "# Redondear a 4 cifras significativas\n",
    "re_r_1 = round(re_1, 4)\n",
    "print('El error relativo para 4*arctan(1/2) + 4*arctan(1/3) es:', re_r_1)"
   ]
  },
  {
   "cell_type": "code",
   "execution_count": 11,
   "metadata": {},
   "outputs": [
    {
     "name": "stdout",
     "output_type": "stream",
     "text": [
      "El orden de magnitud del error relativo es: -2\n"
     ]
    }
   ],
   "source": [
    "import math\n",
    "\n",
    "# Calcular el orden de magnitud del error relativo\n",
    "orden_magnitud_error = math.floor(math.log10(re_1)) + 1\n",
    "print('El orden de magnitud del error relativo es:', orden_magnitud_error)"
   ]
  },
  {
   "cell_type": "code",
   "execution_count": 12,
   "metadata": {},
   "outputs": [
    {
     "name": "stdout",
     "output_type": "stream",
     "text": [
      "El error relativo para 16*arctan(1/5) - 4*arctan(1/239) es: 0.0000099\n"
     ]
    }
   ],
   "source": [
    "import numpy as np\n",
    "\n",
    "\n",
    "# Definir la serie de Maclaurin para arctan(x)\n",
    "def arctan_maclaurin(x, terms=3):\n",
    "    result = 0\n",
    "    for n in range(terms):\n",
    "        term = ((-1)**n) * (x**(2 * n + 1)) / (2 * n + 1)\n",
    "        result += term\n",
    "    return result\n",
    "\n",
    "\n",
    "# Calcular las aproximaciones de arctan(1/5) y arctan(1/239)\n",
    "arctan_1_5 = arctan_maclaurin(1 / 5, terms=3)\n",
    "arctan_1_239 = arctan_maclaurin(1 / 239, terms=3)\n",
    "\n",
    "# Calcular la aproximación de π\n",
    "aproximacion_pi = 16 * arctan_1_5 - 4 * arctan_1_239\n",
    "\n",
    "# Valor real de π\n",
    "pi_real = 3.14159\n",
    "\n",
    "# Calcular el error relativo\n",
    "re_2 = abs((pi_real - aproximacion_pi) / pi_real)\n",
    "\n",
    "# Redondear a 4 cifras significativas\n",
    "re_r_2 = format(re_2, '.7f')\n",
    "print('El error relativo para 16*arctan(1/5) - 4*arctan(1/239) es:', re_r_2)\n"
   ]
  },
  {
   "cell_type": "code",
   "execution_count": 13,
   "metadata": {},
   "outputs": [
    {
     "name": "stdout",
     "output_type": "stream",
     "text": [
      "El orden de magnitud del error relativo es: -5\n"
     ]
    }
   ],
   "source": [
    "import math\n",
    "\n",
    "# Calcular el orden de magnitud del error relativo\n",
    "orden_magnitud_error = math.floor(math.log10(re_2)) + 1\n",
    "print('El orden de magnitud del error relativo es:', orden_magnitud_error)"
   ]
  }
 ],
 "metadata": {
  "kernelspec": {
   "display_name": "Python 3",
   "language": "python",
   "name": "python3"
  },
  "language_info": {
   "codemirror_mode": {
    "name": "ipython",
    "version": 3
   },
   "file_extension": ".py",
   "mimetype": "text/x-python",
   "name": "python",
   "nbconvert_exporter": "python",
   "pygments_lexer": "ipython3",
   "version": "3.11.0"
  }
 },
 "nbformat": 4,
 "nbformat_minor": 2
}
